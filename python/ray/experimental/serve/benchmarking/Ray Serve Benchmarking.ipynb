{
 "cells": [
  {
   "cell_type": "code",
   "execution_count": 1,
   "metadata": {},
   "outputs": [
    {
     "name": "stdout",
     "output_type": "stream",
     "text": [
      "WARNING: Not monitoring node memory since `psutil` is not installed. Install this with `pip install psutil` (or ray[debug]) to enable debugging of memory-related crashes.\n"
     ]
    }
   ],
   "source": [
    "from __future__ import absolute_import\n",
    "from __future__ import division\n",
    "from __future__ import print_function\n",
    "import ray\n",
    "from ray.experimental.serve.examples.adder import ScalerAdder, VectorizedAdder\n",
    "from ray.experimental.serve.examples.halt import SleepCounter, SleepOnFirst\n",
    "from ray.experimental.serve.object_id import unwrap\n",
    "from ray.experimental.serve.router import DeadlineAwareRouter, start_router\n",
    "import time"
   ]
  },
  {
   "cell_type": "code",
   "execution_count": 24,
   "metadata": {},
   "outputs": [],
   "source": [
    "import numpy as np"
   ]
  },
  {
   "cell_type": "code",
   "execution_count": 2,
   "metadata": {},
   "outputs": [
    {
     "name": "stderr",
     "output_type": "stream",
     "text": [
      "2019-03-12 18:05:57,061\tWARNING worker.py:1381 -- WARNING: Not updating worker name since `setproctitle` is not installed. Install this with `pip install setproctitle` (or ray[debug]) to enable monitoring of worker processes.\n",
      "2019-03-12 18:05:57,063\tINFO node.py:423 -- Process STDOUT and STDERR is being redirected to /tmp/ray/session_2019-03-12_18-05-57_55402/logs.\n",
      "2019-03-12 18:05:57,170\tINFO services.py:363 -- Waiting for redis server at 127.0.0.1:30888 to respond...\n",
      "2019-03-12 18:05:57,298\tINFO services.py:363 -- Waiting for redis server at 127.0.0.1:18300 to respond...\n",
      "2019-03-12 18:05:57,303\tINFO services.py:760 -- Starting Redis shard with 3.44 GB max memory.\n",
      "2019-03-12 18:05:57,323\tINFO services.py:1384 -- Starting the Plasma object store with 5.15 GB memory using /tmp.\n"
     ]
    }
   ],
   "source": [
    "# We need at least 5 workers so resource won't be oversubscribed\n",
    "ray.init()\n",
    "\n",
    "# The following two blobs are equivalent\n",
    "#\n",
    "# handle = DeadlineAwareRouter.remote(\"DefaultTestRouter\")\n",
    "# ray.experimental.register_actor(\"DefaultTestRouter\", handle)\n",
    "# handle.start.remote()\n",
    "#\n",
    "# handle = start_router(DeadlineAwareRouter, \"DefaultRouter\")\n",
    "handle = start_router(DeadlineAwareRouter, \"DefaultRouter\")\n"
   ]
  },
  {
   "cell_type": "code",
   "execution_count": 3,
   "metadata": {},
   "outputs": [
    {
     "data": {
      "text/plain": [
       "ObjectID(01000000da49c5607d233fd64c0263ffc5530a1b)"
      ]
     },
     "execution_count": 3,
     "metadata": {},
     "output_type": "execute_result"
    }
   ],
   "source": [
    " handle.register_actor.remote(\n",
    "        \"VAdder\", VectorizedAdder,\n",
    "        init_kwargs={\"scaler_increment\": 1})"
   ]
  },
  {
   "cell_type": "code",
   "execution_count": 4,
   "metadata": {},
   "outputs": [],
   "source": [
    "a = handle.call.remote(\"VAdder\", 42, time.perf_counter() + 1)"
   ]
  },
  {
   "cell_type": "code",
   "execution_count": 5,
   "metadata": {},
   "outputs": [
    {
     "data": {
      "text/plain": [
       "43"
      ]
     },
     "execution_count": 5,
     "metadata": {},
     "output_type": "execute_result"
    }
   ],
   "source": [
    "ray.get(unwrap(a))"
   ]
  },
  {
   "cell_type": "code",
   "execution_count": 9,
   "metadata": {},
   "outputs": [
    {
     "name": "stdout",
     "output_type": "stream",
     "text": [
      "# of tasks: 0 ; Latency: 0.0008473810157738626 ns\n",
      "# of tasks: 10 ; Latency: 0.030821675958577543 ns\n",
      "# of tasks: 20 ; Latency: 0.037508583976887167 ns\n",
      "# of tasks: 30 ; Latency: 0.04954367596656084 ns\n",
      "# of tasks: 40 ; Latency: 0.06229719496332109 ns\n",
      "# of tasks: 50 ; Latency: 0.08520741102984175 ns\n",
      "# of tasks: 60 ; Latency: 0.09304085199255496 ns\n",
      "# of tasks: 70 ; Latency: 0.10412219702266157 ns\n",
      "# of tasks: 80 ; Latency: 0.14366800099378452 ns\n",
      "# of tasks: 90 ; Latency: 0.14964649797184393 ns\n",
      "# of tasks: 100 ; Latency: 0.1533653439837508 ns\n",
      "# of tasks: 110 ; Latency: 0.1852983040153049 ns\n",
      "# of tasks: 120 ; Latency: 0.25398143695201725 ns\n",
      "# of tasks: 130 ; Latency: 0.4765480720088817 ns\n",
      "# of tasks: 140 ; Latency: 0.2968332010204904 ns\n",
      "# of tasks: 150 ; Latency: 0.23383389605442062 ns\n",
      "# of tasks: 160 ; Latency: 0.2638791939825751 ns\n",
      "# of tasks: 170 ; Latency: 0.27757205098168924 ns\n",
      "# of tasks: 180 ; Latency: 0.2800970299867913 ns\n",
      "# of tasks: 190 ; Latency: 0.29543860198464245 ns\n",
      "# of tasks: 200 ; Latency: 0.30757417099084705 ns\n",
      "# of tasks: 210 ; Latency: 0.3348157820291817 ns\n",
      "# of tasks: 220 ; Latency: 0.5576231720042415 ns\n",
      "# of tasks: 230 ; Latency: 0.38321670703589916 ns\n",
      "# of tasks: 240 ; Latency: 0.3902407650020905 ns\n",
      "# of tasks: 250 ; Latency: 0.39938605803763494 ns\n",
      "# of tasks: 260 ; Latency: 0.3990593510097824 ns\n",
      "# of tasks: 270 ; Latency: 0.43206756201107055 ns\n",
      "# of tasks: 280 ; Latency: 0.6772349479724653 ns\n",
      "# of tasks: 290 ; Latency: 0.46486294601345435 ns\n",
      "# of tasks: 300 ; Latency: 0.4952288149506785 ns\n",
      "# of tasks: 310 ; Latency: 0.48847881401889026 ns\n",
      "# of tasks: 320 ; Latency: 0.49179425998590887 ns\n",
      "# of tasks: 330 ; Latency: 0.5266364060225897 ns\n",
      "# of tasks: 340 ; Latency: 0.5263369519961998 ns\n",
      "# of tasks: 350 ; Latency: 0.566608116030693 ns\n",
      "# of tasks: 360 ; Latency: 0.5781950370292179 ns\n",
      "# of tasks: 370 ; Latency: 0.5711906990036368 ns\n",
      "# of tasks: 380 ; Latency: 0.6036689460161142 ns\n",
      "# of tasks: 390 ; Latency: 0.771819461020641 ns\n",
      "# of tasks: 400 ; Latency: 0.6550689170253463 ns\n",
      "# of tasks: 410 ; Latency: 0.6416916149901226 ns\n",
      "# of tasks: 420 ; Latency: 0.662221968988888 ns\n",
      "# of tasks: 430 ; Latency: 0.6584244530531578 ns\n",
      "# of tasks: 440 ; Latency: 0.7178402480203658 ns\n",
      "# of tasks: 450 ; Latency: 0.9477623429847881 ns\n",
      "# of tasks: 460 ; Latency: 0.7367261609761044 ns\n",
      "# of tasks: 470 ; Latency: 0.7463031589868478 ns\n",
      "# of tasks: 480 ; Latency: 0.7418839940219186 ns\n",
      "# of tasks: 490 ; Latency: 0.7823325340286829 ns\n",
      "# of tasks: 500 ; Latency: 0.7882254039868712 ns\n"
     ]
    }
   ],
   "source": [
    "times = []\n",
    "result = a\n",
    "for i in range(0, 501, 10):\n",
    "    for j in range(i):\n",
    "        result = handle.call.remote(\"VAdder\", 42, time.perf_counter() + 1)\n",
    "    now = time.perf_counter()\n",
    "    ray.get(unwrap(result))\n",
    "    after = time.perf_counter()\n",
    "    times += [after - now]\n",
    "    print(\"# of tasks:\", i, \"; Latency:\", after-now, \"ns\")"
   ]
  },
  {
   "cell_type": "code",
   "execution_count": 12,
   "metadata": {},
   "outputs": [],
   "source": [
    "import matplotlib.pyplot as plt"
   ]
  },
  {
   "cell_type": "code",
   "execution_count": 22,
   "metadata": {},
   "outputs": [
    {
     "data": {
      "image/png": "[encoded data removed]",
      "text/plain": [
       "<Figure size 432x288 with 1 Axes>"
      ]
     },
     "metadata": {
      "needs_background": "light"
     },
     "output_type": "display_data"
    }
   ],
   "source": [
    "plt.plot([1] + list(range(10,501,10)), times, 'o-')\n",
    "plt.title(\"Latency of Query Compared to # of Tasks\")\n",
    "plt.xlabel(\"Number of Tasks Registered\")\n",
    "plt.ylabel(\"Latency in ns\");"
   ]
  },
  {
   "cell_type": "code",
   "execution_count": 25,
   "metadata": {},
   "outputs": [],
   "source": [
    "times = np.array(times)"
   ]
  },
  {
   "cell_type": "code",
   "execution_count": 28,
   "metadata": {},
   "outputs": [
    {
     "data": {
      "image/png": "[encoded data removed]",
      "text/plain": [
       "<Figure size 432x288 with 1 Axes>"
      ]
     },
     "metadata": {
      "needs_background": "light"
     },
     "output_type": "display_data"
    }
   ],
   "source": [
    "plt.plot([1] + list(range(10,501,10)), 1/times, 'o-')\n",
    "plt.title(\"Throughput of Deadline Router Compared to # of Tasks\")\n",
    "plt.xlabel(\"Number of Tasks Registered\")\n",
    "plt.ylabel(\"Throughput in qpns\");"
   ]
  },
  {
   "cell_type": "code",
   "execution_count": null,
   "metadata": {},
   "outputs": [],
   "source": []
  }
 ],
 "metadata": {
  "kernelspec": {
   "display_name": "Python 3",
   "language": "python",
   "name": "python3"
  },
  "language_info": {
   "codemirror_mode": {
    "name": "ipython",
    "version": 3
   },
   "file_extension": ".py",
   "mimetype": "text/x-python",
   "name": "python",
   "nbconvert_exporter": "python",
   "pygments_lexer": "ipython3",
   "version": "3.6.8"
  }
 },
 "nbformat": 4,
 "nbformat_minor": 2
}
