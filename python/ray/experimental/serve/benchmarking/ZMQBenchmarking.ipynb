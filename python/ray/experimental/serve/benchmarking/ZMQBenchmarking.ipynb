{
 "cells": [
  {
   "cell_type": "code",
   "execution_count": 2,
   "metadata": {},
   "outputs": [
    {
     "name": "stdout",
     "output_type": "stream",
     "text": [
      "WARNING: Not monitoring node memory since `psutil` is not installed. Install this with `pip install psutil` (or ray[debug]) to enable debugging of memory-related crashes.\n"
     ]
    }
   ],
   "source": [
    "from ray.experimental.serve.frontend import ZMQClient\n",
    "from multiprocessing import Process"
   ]
  },
  {
   "cell_type": "code",
   "execution_count": 5,
   "metadata": {},
   "outputs": [
    {
     "name": "stdout",
     "output_type": "stream",
     "text": [
      "WARNING: Not monitoring node memory since `psutil` is not installed. Install this with `pip install psutil` (or ray[debug]) to enable debugging of memory-related crashes.\r\n"
     ]
    }
   ],
   "source": [
    "zmq_client = ZMQClient(port=8082)"
   ]
  },
  {
   "cell_type": "code",
   "execution_count": null,
   "metadata": {},
   "outputs": [],
   "source": [
    "def noop():\n",
    "    return zmq_client.query(1.0, 1000, actor=\"NoOp\")"
   ]
  },
  {
   "cell_type": "code",
   "execution_count": null,
   "metadata": {},
   "outputs": [],
   "source": [
    "latencies = []\n",
    "for i in range(1,1601): \n",
    "    now = time.perf_counter()\n",
    "    for _ in range(i):\n",
    "        p1 = Process(target=noop)\n",
    "        p1.start()\n",
    "    p1.join()\n",
    "    after = time.perf_counter()\n",
    "    latencies += [after - now]"
   ]
  },
  {
   "cell_type": "code",
   "execution_count": null,
   "metadata": {},
   "outputs": [],
   "source": [
    "import matplotlib.pyplot as plt\n",
    "plt.plot(range(1,1601), latencies, 'o-')\n",
    "plt.title(\"Latency vs. Number of Requests using ZMQ FrontEnd\")\n",
    "plt.xlabel(\"Number of Queries\")\n",
    "plt.ylabel(\"Latency in ns\")"
   ]
  }
 ],
 "metadata": {
  "kernelspec": {
   "display_name": "Python 3",
   "language": "python",
   "name": "python3"
  },
  "language_info": {
   "codemirror_mode": {
    "name": "ipython",
    "version": 3
   },
   "file_extension": ".py",
   "mimetype": "text/x-python",
   "name": "python",
   "nbconvert_exporter": "python",
   "pygments_lexer": "ipython3",
   "version": "3.6.8"
  }
 },
 "nbformat": 4,
 "nbformat_minor": 2
}
