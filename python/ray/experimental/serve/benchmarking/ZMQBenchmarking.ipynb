{
 "cells": [
  {
   "cell_type": "code",
   "execution_count": null,
   "metadata": {},
   "outputs": [],
   "source": [
    "from ray.experimental.serve.frontend import ZMQClient\n",
    "from multiprocessing import Process\n",
    "import time"
   ]
  },
  {
   "cell_type": "code",
   "execution_count": null,
   "metadata": {},
   "outputs": [],
   "source": [
    "zmq_client = ZMQClient(port=8083)"
   ]
  },
  {
   "cell_type": "code",
   "execution_count": null,
   "metadata": {},
   "outputs": [],
   "source": [
    "!ray stop"
   ]
  },
  {
   "cell_type": "code",
   "execution_count": null,
   "metadata": {},
   "outputs": [],
   "source": [
    "def noop():\n",
    "    return "
   ]
  },
  {
   "cell_type": "code",
   "execution_count": null,
   "metadata": {},
   "outputs": [],
   "source": [
    "latencies = []\n",
    "for _ in range(3):\n",
    "    vals = []\n",
    "    for i in range(0, 501, 10):\n",
    "        now = time.perf_counter()\n",
    "        if i == 0:\n",
    "            zmq_client.query(1.0, 1000, actor=\"VectorizedAdder\")\n",
    "        for j in range(i):\n",
    "            zmq_client.query(1.0, 1000, actor=\"VectorizedAdder\")\n",
    "        after = time.perf_counter()\n",
    "        print(\"Trial\", i, \"Latency:\", after-now)\n",
    "        vals += [after - now]\n",
    "    latencies += [vals]"
   ]
  },
  {
   "cell_type": "code",
   "execution_count": null,
   "metadata": {},
   "outputs": [],
   "source": [
    "import numpy as np\n",
    "latencies = np.array(latencies)\n",
    "latencies"
   ]
  },
  {
   "cell_type": "code",
   "execution_count": null,
   "metadata": {},
   "outputs": [],
   "source": [
    "avg = np.sum(latencies, axis=0)/np.float(3)\n",
    "xs = np.array(list(np.arange(0, 501, 10)))"
   ]
  },
  {
   "cell_type": "code",
   "execution_count": null,
   "metadata": {},
   "outputs": [],
   "source": [
    "xs[0] = 1\n",
    "xs"
   ]
  },
  {
   "cell_type": "code",
   "execution_count": null,
   "metadata": {},
   "outputs": [],
   "source": [
    "import matplotlib.pyplot as plt\n",
    "plt.plot(xs, avg, 'o-')\n",
    "plt.title(\"Latency vs. Number of Requests using ZMQ FrontEnd\")\n",
    "plt.xlabel(\"Number of Queries\")\n",
    "plt.ylabel(\"Latency in s\")\n",
    "plt.show()"
   ]
  },
  {
   "cell_type": "code",
   "execution_count": null,
   "metadata": {},
   "outputs": [],
   "source": [
    "np.save(\"lat_zmq.npy\", latencies)"
   ]
  },
  {
   "cell_type": "code",
   "execution_count": null,
   "metadata": {},
   "outputs": [],
   "source": [
    "!ray stop"
   ]
  },
  {
   "cell_type": "code",
   "execution_count": null,
   "metadata": {},
   "outputs": [],
   "source": [
    "from __future__ import absolute_import\n",
    "from __future__ import division\n",
    "from __future__ import print_function\n",
    "\n",
    "import time\n",
    "import requests\n",
    "\n",
    "import ray\n",
    "from ray.experimental.serve import DeadlineAwareRouter\n",
    "from ray.experimental.serve.examples.adder import VectorizedAdder\n",
    "from ray.experimental.serve.frontend import HTTPFrontendActor\n",
    "from ray.experimental.serve.router import start_router\n",
    "\n",
    "ROUTER_NAME = \"DefaultRouter\"\n",
    "ray.shutdown()\n",
    "ray.init()\n",
    "router = start_router(DeadlineAwareRouter, ROUTER_NAME)\n",
    "a = HTTPFrontendActor.remote(router=ROUTER_NAME, port=8091)\n",
    "a.start.remote()\n",
    "\n",
    "router.register_actor.remote(\n",
    "    \"VAdder\", VectorizedAdder, init_kwargs={\"scaler_increment\": 1})\n",
    "latencies = []\n",
    "url = \"http://0.0.0.0:8091/VAdder\"\n",
    "payload = {\"input\": 10, \"slo_ms\": 1000}\n",
    "print(\"Hello\")\n",
    "time.sleep(10)\n",
    "print(\"Done sleeping\")\n",
    "for _ in range(3):\n",
    "    vals = []\n",
    "    for i in range(0, 501, 10):\n",
    "        if i == 0:\n",
    "            now = time.perf_counter()\n",
    "            resp = requests.post(url, json=payload)\n",
    "            assert resp.json() == {\"success\": True, \"actor\": \"VAdder\", \"result\": 11}\n",
    "            after = time.perf_counter()\n",
    "        else:\n",
    "            now = time.perf_counter()\n",
    "            for j in range(i):\n",
    "                resp = requests.request(\"POST\", url, json=payload)\n",
    "                assert resp.json() == {\"success\": True, \"actor\": \"VAdder\", \"result\": 11}\n",
    "            after = time.perf_counter()\n",
    "        print(\"Trial\", i, \"Latency:\", after-now)\n",
    "        vals += [after - now]\n",
    "    latencies += [vals]"
   ]
  },
  {
   "cell_type": "code",
   "execution_count": null,
   "metadata": {},
   "outputs": [],
   "source": [
    "import numpy as np\n",
    "latencies = np.array(latencies)\n",
    "np.save(\"lat_http.npy\", latencies)\n",
    "latencies"
   ]
  },
  {
   "cell_type": "code",
   "execution_count": null,
   "metadata": {},
   "outputs": [],
   "source": [
    "avg = np.sum(latencies, axis=0)/np.float(3)\n",
    "xs = np.array(list(np.arange(0, 501, 10)))\n",
    "xs[0] = 1\n",
    "xs"
   ]
  },
  {
   "cell_type": "code",
   "execution_count": null,
   "metadata": {},
   "outputs": [],
   "source": [
    "import matplotlib.pyplot as plt\n",
    "plt.plot(xs, avg, 'o-')\n",
    "plt.title(\"Latency vs. Number of Requests using HTTP FrontEnd\")\n",
    "plt.xlabel(\"Number of Queries\")\n",
    "plt.ylabel(\"Latency in s\")"
   ]
  },
  {
   "cell_type": "code",
   "execution_count": null,
   "metadata": {},
   "outputs": [],
   "source": [
    "times = np.load('lat_zmq.npy')\n",
    "times"
   ]
  },
  {
   "cell_type": "code",
   "execution_count": null,
   "metadata": {},
   "outputs": [],
   "source": [
    "avgt = np.sum(times, axis=0)/np.float(3)\n",
    "xs = np.array(list(np.arange(0, 501, 10)))\n",
    "xs[0] = 1\n",
    "xs"
   ]
  },
  {
   "cell_type": "code",
   "execution_count": null,
   "metadata": {},
   "outputs": [],
   "source": [
    "plt.plot(xs, avg, 'o-', label='HTTP Frontend')\n",
    "plt.plot(xs, avgt, '+-', label='ZMQ Frontend')\n",
    "plt.title(\"Latency vs. Number of Requests\")\n",
    "plt.xlabel(\"Number of Queries\")\n",
    "plt.ylabel(\"Latency in s\")\n",
    "plt.legend()"
   ]
  },
  {
   "cell_type": "code",
   "execution_count": 1,
   "metadata": {},
   "outputs": [
    {
     "name": "stderr",
     "output_type": "stream",
     "text": [
      "2019-05-08 01:46:40,098\tWARNING worker.py:1344 -- WARNING: Not updating worker name since `setproctitle` is not installed. Install this with `pip install setproctitle` (or ray[debug]) to enable monitoring of worker processes.\n",
      "2019-05-08 01:46:40,099\tINFO node.py:469 -- Process STDOUT and STDERR is being redirected to /tmp/ray/session_2019-05-08_01-46-40_9266/logs.\n",
      "2019-05-08 01:46:40,205\tINFO services.py:407 -- Waiting for redis server at 127.0.0.1:24872 to respond...\n"
     ]
    },
    {
     "name": "stdout",
     "output_type": "stream",
     "text": [
      "WARNING: Not monitoring node memory since `psutil` is not installed. Install this with `pip install psutil` (or ray[debug]) to enable debugging of memory-related crashes.\n"
     ]
    },
    {
     "name": "stderr",
     "output_type": "stream",
     "text": [
      "2019-05-08 01:46:40,324\tINFO services.py:407 -- Waiting for redis server at 127.0.0.1:41853 to respond...\n",
      "2019-05-08 01:46:40,326\tINFO services.py:804 -- Starting Redis shard with 6.58 GB max memory.\n",
      "2019-05-08 01:46:40,334\tINFO node.py:483 -- Process STDOUT and STDERR is being redirected to /tmp/ray/session_2019-05-08_01-46-40_9266/logs.\n",
      "2019-05-08 01:46:40,340\tINFO services.py:1439 -- Starting the Plasma object store with 9.87 GB memory using /dev/shm.\n",
      "2019-05-08 01:46:40,348\tWARNING services.py:907 -- Failed to start the reporter. The reporter requires 'pip install psutil'.\n"
     ]
    },
    {
     "name": "stdout",
     "output_type": "stream",
     "text": [
      "hello\n",
      "\u001b[2m\u001b[36m(pid=9472)\u001b[0m HellO!\n",
      "\u001b[2m\u001b[36m(pid=9472)\u001b[0m HI!\n",
      "\u001b[2m\u001b[36m(pid=9472)\u001b[0m GOODBE\n",
      "\u001b[2m\u001b[36m(pid=9472)\u001b[0m 57033\n",
      "Goodbye\n",
      "Trial 0 Latency: 0.0001836039991758298\n",
      "Trial 10 Latency: 0.0006244930009415839\n",
      "Trial 20 Latency: 0.0017627389970584773\n",
      "Trial 30 Latency: 0.002368819001276279\n",
      "Trial 40 Latency: 0.003286107999883825\n",
      "Trial 50 Latency: 0.005285195002215914\n",
      "Trial 60 Latency: 0.006762164000974735\n",
      "Trial 70 Latency: 0.029583600000478327\n",
      "Trial 80 Latency: 0.008260350998170907\n",
      "Trial 90 Latency: 0.008285898999019992\n",
      "Trial 100 Latency: 0.02979738500289386\n",
      "Trial 110 Latency: 0.02476829499937594\n",
      "Trial 120 Latency: 0.01171928899930208\n",
      "Trial 130 Latency: 0.01241760199991404\n",
      "Trial 140 Latency: 0.018316637997486396\n",
      "Trial 150 Latency: 0.013650742002937477\n",
      "Trial 160 Latency: 0.010003134000726277\n",
      "Trial 170 Latency: 0.011343525002303068\n",
      "Trial 180 Latency: 0.010517965001781704\n",
      "Trial 190 Latency: 0.011973151998972753\n",
      "Trial 200 Latency: 0.01349786100035999\n",
      "Trial 210 Latency: 0.012232810000568861\n",
      "Trial 220 Latency: 0.013560155999584822\n",
      "Trial 230 Latency: 0.024304186001245398\n",
      "Trial 240 Latency: 0.024415341998974327\n",
      "Trial 250 Latency: 0.021440938999148784\n",
      "Trial 260 Latency: 0.02111606499966001\n",
      "Trial 270 Latency: 0.021724530997744296\n",
      "Trial 280 Latency: 0.021913324999331962\n",
      "Trial 290 Latency: 0.02270762499756529\n",
      "Trial 300 Latency: 0.020971905996702844\n",
      "Trial 310 Latency: 0.018259249001857825\n",
      "Trial 320 Latency: 0.01817949000178487\n",
      "Trial 330 Latency: 0.02104925700041349\n",
      "Trial 340 Latency: 0.021602186003292445\n",
      "Trial 350 Latency: 0.02204217299731681\n",
      "Trial 360 Latency: 0.020986945000913693\n",
      "Trial 370 Latency: 0.027932971002883278\n",
      "Trial 380 Latency: 0.022185322999575874\n",
      "Trial 390 Latency: 0.02286746799654793\n",
      "Trial 400 Latency: 0.04103503500300576\n",
      "Trial 410 Latency: 0.032022359999245964\n",
      "Trial 420 Latency: 0.0283013199987181\n",
      "Trial 430 Latency: 0.029960485000628978\n",
      "Trial 440 Latency: 0.040672565999557264\n",
      "Trial 450 Latency: 0.027437967000878416\n",
      "Trial 460 Latency: 0.028848960999312112\n",
      "Trial 470 Latency: 0.040265359999466455\n",
      "Trial 480 Latency: 0.028646638998907292\n",
      "Trial 490 Latency: 0.029337725001823856\n",
      "Trial 500 Latency: 0.02920990799975698\n",
      "Trial 0 Latency: 7.134900079108775e-05\n",
      "Trial 10 Latency: 0.0006323689995042514\n",
      "Trial 20 Latency: 0.0011996029970759992\n",
      "Trial 30 Latency: 0.0017486459983047098\n",
      "Trial 40 Latency: 0.0023002710004220717\n",
      "Trial 50 Latency: 0.002924861997598782\n",
      "Trial 60 Latency: 0.003697061001730617\n",
      "Trial 70 Latency: 0.00426219799919636\n",
      "Trial 80 Latency: 0.004709903998445952\n",
      "Trial 90 Latency: 0.00536129000101937\n",
      "Trial 100 Latency: 0.006233482999959961\n",
      "Trial 110 Latency: 0.006610772001295118\n",
      "Trial 120 Latency: 0.007081967996782623\n",
      "Trial 130 Latency: 0.007858367000153521\n",
      "Trial 140 Latency: 0.008436078998784069\n",
      "Trial 150 Latency: 0.009077341997908661\n",
      "Trial 160 Latency: 0.0091713889996754\n",
      "Trial 170 Latency: 0.009676061999925878\n",
      "Trial 180 Latency: 0.010491225999430753\n",
      "Trial 190 Latency: 0.013539306000893703\n",
      "Trial 200 Latency: 0.012047543998050969\n",
      "Trial 210 Latency: 0.012381472002743976\n",
      "Trial 220 Latency: 0.012720233000436565\n",
      "Trial 230 Latency: 0.013435978999041254\n",
      "Trial 240 Latency: 0.014060264998988714\n",
      "Trial 250 Latency: 0.024913197001296794\n",
      "Trial 260 Latency: 0.017993037999985972\n",
      "Trial 270 Latency: 0.025871134999761125\n",
      "Trial 280 Latency: 0.028663902998232516\n",
      "Trial 290 Latency: 0.02326815700143925\n",
      "Trial 300 Latency: 0.017823546997533413\n",
      "Trial 310 Latency: 0.01861063900287263\n",
      "Trial 320 Latency: 0.01849051499812049\n",
      "Trial 330 Latency: 0.01952332899963949\n",
      "Trial 340 Latency: 0.020015730002342025\n",
      "Trial 350 Latency: 0.02060023899684893\n",
      "Trial 360 Latency: 0.021083239000290632\n",
      "Trial 370 Latency: 0.056072313000186114\n",
      "Trial 380 Latency: 0.021937921999779064\n",
      "Trial 390 Latency: 0.024842753999109846\n",
      "Trial 400 Latency: 0.026085484998475295\n",
      "Trial 410 Latency: 0.02501206599845318\n",
      "Trial 420 Latency: 0.0324668820030638\n",
      "Trial 430 Latency: 0.036031979998369934\n",
      "Trial 440 Latency: 0.029822000000422122\n",
      "Trial 450 Latency: 0.026023839000117732\n",
      "Trial 460 Latency: 0.026442123999004252\n",
      "Trial 470 Latency: 0.027838177997182356\n",
      "Trial 480 Latency: 0.028566363002028083\n",
      "Trial 490 Latency: 0.028861614999186713\n",
      "Trial 500 Latency: 0.031390325999382185\n",
      "Trial 0 Latency: 8.209799852920696e-05\n",
      "Trial 10 Latency: 0.0006000609973852988\n",
      "Trial 20 Latency: 0.001168528000562219\n",
      "Trial 30 Latency: 0.0017019760016410146\n",
      "Trial 40 Latency: 0.002368516001297394\n",
      "Trial 50 Latency: 0.0030252399992605206\n",
      "Trial 60 Latency: 0.003564388996892376\n",
      "Trial 70 Latency: 0.004085455999302212\n",
      "Trial 80 Latency: 0.004626434998499462\n",
      "Trial 90 Latency: 0.006228361999092158\n",
      "Trial 100 Latency: 0.010252875999867683\n",
      "Trial 110 Latency: 0.011619026998232584\n",
      "Trial 120 Latency: 0.008157575000950601\n",
      "Trial 130 Latency: 0.009578807999787387\n",
      "Trial 140 Latency: 0.008324326998263132\n",
      "Trial 150 Latency: 0.008509383002092363\n",
      "Trial 160 Latency: 0.009339487001852831\n",
      "Trial 170 Latency: 0.009536361998470966\n",
      "Trial 180 Latency: 0.013245460999314673\n",
      "Trial 190 Latency: 0.010957155001960928\n",
      "Trial 200 Latency: 0.012781683999492088\n",
      "Trial 210 Latency: 0.012235579000844155\n",
      "Trial 220 Latency: 0.012899400000605965\n",
      "Trial 230 Latency: 0.016442306998214917\n",
      "Trial 240 Latency: 0.019440604002738837\n",
      "Trial 250 Latency: 0.020890088999294676\n",
      "Trial 260 Latency: 0.020886067002720665\n",
      "Trial 270 Latency: 0.01765374000024167\n",
      "Trial 280 Latency: 0.016024959997594124\n",
      "Trial 290 Latency: 0.016927084998314967\n",
      "Trial 300 Latency: 0.031793472000572365\n",
      "Trial 310 Latency: 0.03256089299975429\n",
      "Trial 320 Latency: 0.03334452600029181\n",
      "Trial 330 Latency: 0.02564588400127832\n",
      "Trial 340 Latency: 0.020843096001044614\n",
      "Trial 350 Latency: 0.029589835001388565\n",
      "Trial 360 Latency: 0.022048926002753433\n",
      "Trial 370 Latency: 0.05208509400108596\n",
      "Trial 380 Latency: 0.02975003900064621\n",
      "Trial 390 Latency: 0.03285855300055118\n",
      "Trial 400 Latency: 0.02476577599736629\n",
      "Trial 410 Latency: 0.038252332000411116\n",
      "Trial 420 Latency: 0.04310987500139163\n",
      "Trial 430 Latency: 0.04477950000000419\n",
      "Trial 440 Latency: 0.03695649899964337\n",
      "Trial 450 Latency: 0.027788327999587636\n",
      "Trial 460 Latency: 0.03206105700155604\n",
      "Trial 470 Latency: 0.03832393199991202\n",
      "Trial 480 Latency: 0.033240640001167776\n",
      "Trial 490 Latency: 0.037798653000209015\n",
      "Trial 500 Latency: 0.028673996002908098\n"
     ]
    }
   ],
   "source": [
    "from __future__ import absolute_import\n",
    "from __future__ import division\n",
    "from __future__ import print_function\n",
    "\n",
    "import time\n",
    "import requests\n",
    "\n",
    "import ray\n",
    "from ray.experimental.serve import DeadlineAwareRouter\n",
    "from ray.experimental.serve.examples.test import Predictor\n",
    "from ray.experimental.serve.router import start_router\n",
    "\n",
    "ray.shutdown()\n",
    "ray.init()\n",
    "handle = start_router(DeadlineAwareRouter, \"DefaultRouter\")\n",
    "\n",
    "\n",
    "handle.register_actor.remote(\n",
    "    \"Pred\", Predictor, init_kwargs={\"container\": 'ray/example:latest'})\n",
    "latencies = []\n",
    "print(\"hello\")\n",
    "time.sleep(5)\n",
    "print(\"Goodbye\")\n",
    "for _ in range(3):\n",
    "    vals = []\n",
    "    for i in range(0, 501, 10):\n",
    "        if i == 0:\n",
    "            now = time.perf_counter()\n",
    "            result = handle.call.remote(\"Pred\", [42], time.perf_counter() + 1)\n",
    "            after = time.perf_counter()\n",
    "        else:\n",
    "            now = time.perf_counter()\n",
    "            for j in range(i):\n",
    "                result = handle.call.remote(\"Pred\", [42], time.perf_counter() + 1)\n",
    "            after = time.perf_counter()\n",
    "        print(\"Trial\", i, \"Latency:\", after-now)\n",
    "        vals += [after - now]\n",
    "    latencies += [vals]"
   ]
  },
  {
   "cell_type": "code",
   "execution_count": null,
   "metadata": {},
   "outputs": [],
   "source": [
    "latencies = np.array(latencies)\n",
    "np.save(\"latencies_cont.npy\", latencies)\n",
    "avg = np.sum(latencies, axis=0)/np.float(3)\n",
    "xs = np.array(list(np.arange(0, 501, 10)))\n",
    "xs[0] = 1\n",
    "xs"
   ]
  },
  {
   "cell_type": "code",
   "execution_count": null,
   "metadata": {},
   "outputs": [],
   "source": [
    "avg"
   ]
  },
  {
   "cell_type": "code",
   "execution_count": null,
   "metadata": {},
   "outputs": [],
   "source": [
    "plt.plot(xs, avg, 'o-')\n",
    "plt.title(\"Latency vs. Number of Requests using Containerization\")\n",
    "plt.xlabel(\"Number of Queries\")\n",
    "plt.ylabel(\"Latency in s\")"
   ]
  },
  {
   "cell_type": "code",
   "execution_count": 1,
   "metadata": {},
   "outputs": [],
   "source": [
    "import numpy as np\n",
    "import matplotlib.pyplot as plt"
   ]
  },
  {
   "cell_type": "code",
   "execution_count": 2,
   "metadata": {},
   "outputs": [],
   "source": [
    "lat_zmq = np.load(\"lat_zmq.npy\")"
   ]
  },
  {
   "cell_type": "code",
   "execution_count": 3,
   "metadata": {},
   "outputs": [],
   "source": [
    "lat_http = np.load(\"lat_http.npy\")"
   ]
  },
  {
   "cell_type": "code",
   "execution_count": 4,
   "metadata": {},
   "outputs": [
    {
     "data": {
      "text/plain": [
       "array([[0.01514464, 0.04383649, 0.08389698, 0.08030714, 0.10362453,\n",
       "        0.13083353, 0.16920069, 0.18476456, 0.22910431, 0.22841883,\n",
       "        0.26910601, 0.32272962, 0.3319397 , 0.3500686 , 0.38073661,\n",
       "        0.39121674, 0.44765687, 0.43033302, 0.50436841, 0.53961573,\n",
       "        0.56200222, 0.57367087, 0.59310537, 0.6116835 , 0.66596449,\n",
       "        0.70413136, 0.70479583, 0.72436638, 0.7586407 , 0.80702611,\n",
       "        0.82464745, 0.81737489, 0.89862863, 0.87224397, 0.92908072,\n",
       "        0.95621908, 0.99178754, 0.99591464, 1.02906601, 1.07492971,\n",
       "        1.07659588, 1.11944207, 1.12543847, 1.18346874, 1.19911452,\n",
       "        1.24448809, 1.26748   , 1.2677226 , 1.31293979, 1.35532537,\n",
       "        1.35036818],\n",
       "       [0.00300742, 0.02660859, 0.06965699, 0.09543229, 0.1090651 ,\n",
       "        0.13798255, 0.16085193, 0.19135449, 0.21874274, 0.25958459,\n",
       "        0.25360103, 0.30178131, 0.34890526, 0.34337388, 0.37919726,\n",
       "        0.42622389, 0.43717144, 0.49510686, 0.46860056, 0.52122388,\n",
       "        0.57863135, 0.55952202, 0.59108866, 0.63674124, 0.65595987,\n",
       "        0.64982586, 0.71733647, 0.74486127, 0.74942945, 0.78050583,\n",
       "        0.82745431, 0.84698866, 0.90329389, 0.89751601, 0.90793699,\n",
       "        0.93612145, 0.97587617, 1.02034096, 1.05079708, 1.05268551,\n",
       "        1.10658633, 1.10187837, 1.17410124, 1.14631805, 1.20708268,\n",
       "        1.23004517, 1.25232115, 1.26726109, 1.28815579, 1.33915465,\n",
       "        1.39059839],\n",
       "       [0.00233965, 0.02561038, 0.0512719 , 0.07766839, 0.10274804,\n",
       "        0.12874016, 0.16185191, 0.19481155, 0.21883196, 0.23113219,\n",
       "        0.26467743, 0.3224908 , 0.33384695, 0.34975346, 0.3904343 ,\n",
       "        0.40921929, 0.42792616, 0.46930957, 0.4783503 , 0.51056229,\n",
       "        0.52514338, 0.57865086, 0.60363584, 0.61744837, 0.66098343,\n",
       "        0.67778671, 0.70882314, 0.73780914, 0.7555766 , 0.76735987,\n",
       "        0.80736826, 0.85730832, 0.87507946, 0.89357967, 0.92762895,\n",
       "        0.97030966, 0.99179941, 1.01550811, 1.04832304, 1.0466938 ,\n",
       "        1.07390752, 1.12024748, 1.22304358, 1.15280383, 1.18606886,\n",
       "        1.24301821, 1.2466671 , 1.29472256, 1.34794983, 1.3201589 ,\n",
       "        1.35488068]])"
      ]
     },
     "execution_count": 4,
     "metadata": {},
     "output_type": "execute_result"
    }
   ],
   "source": [
    "lat_zmq"
   ]
  },
  {
   "cell_type": "code",
   "execution_count": 5,
   "metadata": {},
   "outputs": [
    {
     "data": {
      "text/plain": [
       "array([[0.00903962, 0.12492201, 0.10733441, 0.11878368, 0.17532405,\n",
       "        0.19664793, 0.23072081, 0.27652249, 0.34998833, 0.35396712,\n",
       "        0.39276348, 0.44062573, 0.47462   , 0.51433334, 0.57280804,\n",
       "        0.60814261, 0.63965347, 0.66029154, 0.75260612, 0.76273104,\n",
       "        0.82265766, 0.86852692, 0.87892641, 0.92250242, 1.04503974,\n",
       "        0.98884166, 1.03708252, 1.07214351, 1.12519001, 1.18758513,\n",
       "        1.22219309, 1.25582022, 1.28937317, 1.39642036, 1.35122897,\n",
       "        1.39848105, 1.44285558, 1.51660167, 1.52130088, 1.54013391,\n",
       "        1.64240038, 1.64839557, 1.71027456, 1.7366113 , 1.79410547,\n",
       "        1.81873005, 1.92465615, 1.93282455, 1.91722437, 1.97727482,\n",
       "        2.05112756],\n",
       "       [0.00436866, 0.03921764, 0.07737192, 0.115598  , 0.17145959,\n",
       "        0.19512131, 0.22960319, 0.27733699, 0.3283432 , 0.36288132,\n",
       "        0.43400887, 0.46498155, 0.47625347, 0.53470897, 0.5787814 ,\n",
       "        0.59368023, 0.63717443, 0.67655633, 0.71439655, 0.76666407,\n",
       "        0.8130148 , 0.86405772, 0.88491102, 0.92121009, 0.96133996,\n",
       "        1.03975625, 1.04507199, 1.07657427, 1.16604859, 1.17622497,\n",
       "        1.18400046, 1.23612148, 1.276458  , 1.35426914, 1.40186936,\n",
       "        1.39771671, 1.45468628, 1.47422679, 1.54465056, 1.56066213,\n",
       "        1.63929203, 1.75066448, 1.69106461, 1.7382011 , 1.77055386,\n",
       "        1.78177577, 1.88500034, 1.95557927, 1.94428992, 1.97526592,\n",
       "        1.99512576],\n",
       "       [0.0043103 , 0.04185209, 0.08256178, 0.12231903, 0.16788794,\n",
       "        0.1950774 , 0.23630604, 0.27642987, 0.32835345, 0.36389707,\n",
       "        0.38752959, 0.4544136 , 0.54496907, 0.52283405, 0.56810409,\n",
       "        0.60157362, 0.62646709, 0.6798727 , 0.72833624, 0.77581556,\n",
       "        0.88868567, 0.81364147, 0.8843199 , 0.93760167, 0.9676138 ,\n",
       "        0.99721695, 1.08569949, 1.08606491, 1.09002955, 1.16684148,\n",
       "        1.20642976, 1.23813693, 1.274103  , 1.35840831, 1.37443672,\n",
       "        1.40040988, 1.46415117, 1.49313813, 1.54932102, 1.57494849,\n",
       "        1.61114114, 1.75298468, 1.67242203, 1.72932572, 1.7684132 ,\n",
       "        1.79824791, 1.8427876 , 2.00717985, 1.91048795, 1.99231492,\n",
       "        1.99972997]])"
      ]
     },
     "execution_count": 5,
     "metadata": {},
     "output_type": "execute_result"
    }
   ],
   "source": [
    "lat_http"
   ]
  },
  {
   "cell_type": "code",
   "execution_count": 7,
   "metadata": {},
   "outputs": [],
   "source": [
    "avg_http = np.sum(lat_http, axis=0)/np.float(3)"
   ]
  },
  {
   "cell_type": "code",
   "execution_count": 8,
   "metadata": {},
   "outputs": [
    {
     "data": {
      "text/plain": [
       "array([0.0059062 , 0.06866391, 0.08908937, 0.11890023, 0.17155719,\n",
       "       0.19561555, 0.23221001, 0.27676312, 0.33556166, 0.3602485 ,\n",
       "       0.40476731, 0.4533403 , 0.49861418, 0.52395879, 0.57323117,\n",
       "       0.60113216, 0.63443167, 0.67224019, 0.73177964, 0.76840356,\n",
       "       0.84145271, 0.84874204, 0.88271911, 0.92710473, 0.99133116,\n",
       "       1.00860495, 1.05595133, 1.0782609 , 1.12708938, 1.17688386,\n",
       "       1.20420777, 1.24335954, 1.27997806, 1.36969927, 1.37584502,\n",
       "       1.39886922, 1.45389767, 1.49465553, 1.53842415, 1.55858151,\n",
       "       1.63094451, 1.71734824, 1.69125373, 1.73471271, 1.77769084,\n",
       "       1.79958458, 1.88414803, 1.96519456, 1.92400075, 1.98161855,\n",
       "       2.01532776])"
      ]
     },
     "execution_count": 8,
     "metadata": {},
     "output_type": "execute_result"
    }
   ],
   "source": [
    "avg_http"
   ]
  },
  {
   "cell_type": "code",
   "execution_count": 9,
   "metadata": {},
   "outputs": [],
   "source": [
    "avg_zmq = np.sum(lat_zmq, axis=0)/np.float(3)"
   ]
  },
  {
   "cell_type": "code",
   "execution_count": 11,
   "metadata": {},
   "outputs": [
    {
     "data": {
      "text/plain": [
       "1.365282419000626"
      ]
     },
     "execution_count": 11,
     "metadata": {},
     "output_type": "execute_result"
    }
   ],
   "source": [
    "avg_zmq[-1]"
   ]
  },
  {
   "cell_type": "code",
   "execution_count": 12,
   "metadata": {},
   "outputs": [
    {
     "data": {
      "text/plain": [
       "2.015327763332607"
      ]
     },
     "execution_count": 12,
     "metadata": {},
     "output_type": "execute_result"
    }
   ],
   "source": [
    "avg_http[-1]"
   ]
  },
  {
   "cell_type": "code",
   "execution_count": 43,
   "metadata": {},
   "outputs": [],
   "source": [
    "import seaborn as sns\n",
    "sns.set(style=\"white\", palette='muted', font_scale=2)\n",
    "%matplotlib inline\n",
    "\n"
   ]
  },
  {
   "cell_type": "code",
   "execution_count": 44,
   "metadata": {},
   "outputs": [],
   "source": [
    "import pandas as pd"
   ]
  },
  {
   "cell_type": "code",
   "execution_count": 45,
   "metadata": {},
   "outputs": [],
   "source": [
    "df = pd.DataFrame({\n",
    "    'Frontend': ['HTTP', 'ZMQ'],\n",
    "    'E2E Duration (s)': [avg_http[-1], avg_zmq[-1]]\n",
    "})"
   ]
  },
  {
   "cell_type": "code",
   "execution_count": 47,
   "metadata": {},
   "outputs": [
    {
     "name": "stdout",
     "output_type": "stream",
     "text": [
      "/Users/rehandurrani/Documents/ray/python/ray/experimental/serve/benchmarking\r\n"
     ]
    }
   ],
   "source": [
    "!pwd"
   ]
  },
  {
   "cell_type": "code",
   "execution_count": 48,
   "metadata": {},
   "outputs": [
    {
     "data": {
      "image/png": "[encoded data removed]",
      "text/plain": [
       "<Figure size 576x432 with 1 Axes>"
      ]
     },
     "metadata": {
      "needs_background": "light"
     },
     "output_type": "display_data"
    }
   ],
   "source": [
    "plt.figure(figsize=(8,6))\n",
    "sns.barplot(data=df, x='Frontend', y='E2E Duration (s)')\n",
    "plt.title(\"Duration of sending 500 queries (lower is better)\")\n",
    "plt.savefig('/Users/rehandurrani/Desktop/dur_cmp.svg')"
   ]
  },
  {
   "cell_type": "code",
   "execution_count": 13,
   "metadata": {},
   "outputs": [
    {
     "data": {
      "text/plain": [
       "<BarContainer object of 2 artists>"
      ]
     },
     "execution_count": 13,
     "metadata": {},
     "output_type": "execute_result"
    },
    {
     "data": {
      "image/png": "[encoded data removed]",
      "text/plain": [
       "<Figure size 432x288 with 1 Axes>"
      ]
     },
     "metadata": {
      "needs_background": "light"
     },
     "output_type": "display_data"
    }
   ],
   "source": [
    "plt.bar(['HTTP Frontend', \"ZMQ Frontend\"], [avg_http[-1], avg_zmq[-1]])"
   ]
  },
  {
   "cell_type": "code",
   "execution_count": 49,
   "metadata": {},
   "outputs": [],
   "source": [
    "latencies = np.load('latencies_single_query.npy')"
   ]
  },
  {
   "cell_type": "code",
   "execution_count": 50,
   "metadata": {},
   "outputs": [
    {
     "data": {
      "text/plain": [
       "array([[0.00311723, 0.00260165, 0.00214984, ..., 0.00217718, 0.00223817,\n",
       "        0.00222012],\n",
       "       [0.00216001, 0.00221913, 0.00276052, ..., 0.00221811, 0.00221291,\n",
       "        0.0022004 ],\n",
       "       [0.00216944, 0.002187  , 0.00220403, ..., 0.00223823, 0.00222932,\n",
       "        0.00252224]])"
      ]
     },
     "execution_count": 50,
     "metadata": {},
     "output_type": "execute_result"
    }
   ],
   "source": [
    "latencies"
   ]
  },
  {
   "cell_type": "code",
   "execution_count": 59,
   "metadata": {},
   "outputs": [],
   "source": [
    "df = pd.DataFrame(latencies)"
   ]
  },
  {
   "cell_type": "code",
   "execution_count": 60,
   "metadata": {},
   "outputs": [],
   "source": [
    "df = df.melt().rename(columns={'variable': 'Query ID', 'value': 'Latency (s)'})"
   ]
  },
  {
   "cell_type": "code",
   "execution_count": 71,
   "metadata": {},
   "outputs": [
    {
     "data": {
      "image/png": "[encoded data removed]",
      "text/plain": [
       "<Figure size 1152x432 with 1 Axes>"
      ]
     },
     "metadata": {
      "needs_background": "light"
     },
     "output_type": "display_data"
    }
   ],
   "source": [
    "plt.figure(figsize=(16,6))\n",
    "sns.lineplot(data=df, x='Query ID', y='Latency (s)')\n",
    "plt.tight_layout()\n",
    "plt.savefig('/Users/rehandurrani/Desktop/stab_lat.svg')"
   ]
  },
  {
   "cell_type": "code",
   "execution_count": null,
   "metadata": {},
   "outputs": [],
   "source": []
  }
 ],
 "metadata": {
  "kernelspec": {
   "display_name": "Python 3",
   "language": "python",
   "name": "python3"
  },
  "language_info": {
   "codemirror_mode": {
    "name": "ipython",
    "version": 3
   },
   "file_extension": ".py",
   "mimetype": "text/x-python",
   "name": "python",
   "nbconvert_exporter": "python",
   "pygments_lexer": "ipython3",
   "version": "3.6.8"
  }
 },
 "nbformat": 4,
 "nbformat_minor": 2
}
