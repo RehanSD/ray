{
 "cells": [
  {
   "cell_type": "code",
   "execution_count": null,
   "metadata": {},
   "outputs": [],
   "source": [
    "from ray.experimental.serve.frontend import ZMQClient\n",
    "from multiprocessing import Process\n",
    "import time"
   ]
  },
  {
   "cell_type": "code",
   "execution_count": null,
   "metadata": {},
   "outputs": [],
   "source": [
    "zmq_client = ZMQClient(port=8083)"
   ]
  },
  {
   "cell_type": "code",
   "execution_count": null,
   "metadata": {},
   "outputs": [],
   "source": [
    "!ray stop"
   ]
  },
  {
   "cell_type": "code",
   "execution_count": null,
   "metadata": {},
   "outputs": [],
   "source": [
    "def noop():\n",
    "    return "
   ]
  },
  {
   "cell_type": "code",
   "execution_count": null,
   "metadata": {},
   "outputs": [],
   "source": [
    "latencies = []\n",
    "for _ in range(3):\n",
    "    vals = []\n",
    "    for i in range(0, 501, 10):\n",
    "        now = time.perf_counter()\n",
    "        if i == 0:\n",
    "            zmq_client.query(1.0, 1000, actor=\"VectorizedAdder\")\n",
    "        for j in range(i):\n",
    "            zmq_client.query(1.0, 1000, actor=\"VectorizedAdder\")\n",
    "        after = time.perf_counter()\n",
    "        print(\"Trial\", i, \"Latency:\", after-now)\n",
    "        vals += [after - now]\n",
    "    latencies += [vals]"
   ]
  },
  {
   "cell_type": "code",
   "execution_count": null,
   "metadata": {},
   "outputs": [],
   "source": [
    "import numpy as np\n",
    "latencies = np.array(latencies)\n",
    "latencies"
   ]
  },
  {
   "cell_type": "code",
   "execution_count": null,
   "metadata": {},
   "outputs": [],
   "source": [
    "avg = np.sum(latencies, axis=0)/np.float(3)\n",
    "xs = np.array(list(np.arange(0, 501, 10)))"
   ]
  },
  {
   "cell_type": "code",
   "execution_count": null,
   "metadata": {},
   "outputs": [],
   "source": [
    "xs[0] = 1\n",
    "xs"
   ]
  },
  {
   "cell_type": "code",
   "execution_count": null,
   "metadata": {},
   "outputs": [],
   "source": [
    "import matplotlib.pyplot as plt\n",
    "plt.plot(xs, avg, 'o-')\n",
    "plt.title(\"Latency vs. Number of Requests using ZMQ FrontEnd\")\n",
    "plt.xlabel(\"Number of Queries\")\n",
    "plt.ylabel(\"Latency in s\")\n",
    "plt.show()"
   ]
  },
  {
   "cell_type": "code",
   "execution_count": null,
   "metadata": {},
   "outputs": [],
   "source": [
    "np.save(\"lat_zmq.npy\", latencies)"
   ]
  },
  {
   "cell_type": "code",
   "execution_count": null,
   "metadata": {},
   "outputs": [],
   "source": [
    "!ray stop"
   ]
  },
  {
   "cell_type": "code",
   "execution_count": null,
   "metadata": {},
   "outputs": [],
   "source": [
    "from __future__ import absolute_import\n",
    "from __future__ import division\n",
    "from __future__ import print_function\n",
    "\n",
    "import time\n",
    "import requests\n",
    "\n",
    "import ray\n",
    "from ray.experimental.serve import DeadlineAwareRouter\n",
    "from ray.experimental.serve.examples.adder import VectorizedAdder\n",
    "from ray.experimental.serve.frontend import HTTPFrontendActor\n",
    "from ray.experimental.serve.router import start_router\n",
    "\n",
    "ROUTER_NAME = \"DefaultRouter\"\n",
    "ray.shutdown()\n",
    "ray.init()\n",
    "router = start_router(DeadlineAwareRouter, ROUTER_NAME)\n",
    "a = HTTPFrontendActor.remote(router=ROUTER_NAME, port=8091)\n",
    "a.start.remote()\n",
    "\n",
    "router.register_actor.remote(\n",
    "    \"VAdder\", VectorizedAdder, init_kwargs={\"scaler_increment\": 1})\n",
    "latencies = []\n",
    "url = \"http://0.0.0.0:8091/VAdder\"\n",
    "payload = {\"input\": 10, \"slo_ms\": 1000}\n",
    "print(\"Hello\")\n",
    "time.sleep(10)\n",
    "print(\"Done sleeping\")\n",
    "for _ in range(3):\n",
    "    vals = []\n",
    "    for i in range(0, 501, 10):\n",
    "        if i == 0:\n",
    "            now = time.perf_counter()\n",
    "            resp = requests.post(url, json=payload)\n",
    "            assert resp.json() == {\"success\": True, \"actor\": \"VAdder\", \"result\": 11}\n",
    "            after = time.perf_counter()\n",
    "        else:\n",
    "            now = time.perf_counter()\n",
    "            for j in range(i):\n",
    "                resp = requests.request(\"POST\", url, json=payload)\n",
    "                assert resp.json() == {\"success\": True, \"actor\": \"VAdder\", \"result\": 11}\n",
    "            after = time.perf_counter()\n",
    "        print(\"Trial\", i, \"Latency:\", after-now)\n",
    "        vals += [after - now]\n",
    "    latencies += [vals]"
   ]
  },
  {
   "cell_type": "code",
   "execution_count": null,
   "metadata": {},
   "outputs": [],
   "source": [
    "import numpy as np\n",
    "latencies = np.array(latencies)\n",
    "np.save(\"lat_http.npy\", latencies)\n",
    "latencies"
   ]
  },
  {
   "cell_type": "code",
   "execution_count": null,
   "metadata": {},
   "outputs": [],
   "source": [
    "avg = np.sum(latencies, axis=0)/np.float(3)\n",
    "xs = np.array(list(np.arange(0, 501, 10)))\n",
    "xs[0] = 1\n",
    "xs"
   ]
  },
  {
   "cell_type": "code",
   "execution_count": null,
   "metadata": {},
   "outputs": [],
   "source": [
    "import matplotlib.pyplot as plt\n",
    "plt.plot(xs, avg, 'o-')\n",
    "plt.title(\"Latency vs. Number of Requests using HTTP FrontEnd\")\n",
    "plt.xlabel(\"Number of Queries\")\n",
    "plt.ylabel(\"Latency in s\")"
   ]
  },
  {
   "cell_type": "code",
   "execution_count": null,
   "metadata": {},
   "outputs": [],
   "source": [
    "times = np.load('lat_zmq.npy')\n",
    "times"
   ]
  },
  {
   "cell_type": "code",
   "execution_count": null,
   "metadata": {},
   "outputs": [],
   "source": [
    "avgt = np.sum(times, axis=0)/np.float(3)\n",
    "xs = np.array(list(np.arange(0, 501, 10)))\n",
    "xs[0] = 1\n",
    "xs"
   ]
  },
  {
   "cell_type": "code",
   "execution_count": null,
   "metadata": {},
   "outputs": [],
   "source": [
    "plt.plot(xs, avg, 'o-', label='HTTP Frontend')\n",
    "plt.plot(xs, avgt, '+-', label='ZMQ Frontend')\n",
    "plt.title(\"Latency vs. Number of Requests\")\n",
    "plt.xlabel(\"Number of Queries\")\n",
    "plt.ylabel(\"Latency in s\")\n",
    "plt.legend()"
   ]
  },
  {
   "cell_type": "code",
   "execution_count": 1,
   "metadata": {},
   "outputs": [
    {
     "name": "stderr",
     "output_type": "stream",
     "text": [
      "2019-05-08 01:46:40,098\tWARNING worker.py:1344 -- WARNING: Not updating worker name since `setproctitle` is not installed. Install this with `pip install setproctitle` (or ray[debug]) to enable monitoring of worker processes.\n",
      "2019-05-08 01:46:40,099\tINFO node.py:469 -- Process STDOUT and STDERR is being redirected to /tmp/ray/session_2019-05-08_01-46-40_9266/logs.\n",
      "2019-05-08 01:46:40,205\tINFO services.py:407 -- Waiting for redis server at 127.0.0.1:24872 to respond...\n"
     ]
    },
    {
     "name": "stdout",
     "output_type": "stream",
     "text": [
      "WARNING: Not monitoring node memory since `psutil` is not installed. Install this with `pip install psutil` (or ray[debug]) to enable debugging of memory-related crashes.\n"
     ]
    },
    {
     "name": "stderr",
     "output_type": "stream",
     "text": [
      "2019-05-08 01:46:40,324\tINFO services.py:407 -- Waiting for redis server at 127.0.0.1:41853 to respond...\n",
      "2019-05-08 01:46:40,326\tINFO services.py:804 -- Starting Redis shard with 6.58 GB max memory.\n",
      "2019-05-08 01:46:40,334\tINFO node.py:483 -- Process STDOUT and STDERR is being redirected to /tmp/ray/session_2019-05-08_01-46-40_9266/logs.\n",
      "2019-05-08 01:46:40,340\tINFO services.py:1439 -- Starting the Plasma object store with 9.87 GB memory using /dev/shm.\n",
      "2019-05-08 01:46:40,348\tWARNING services.py:907 -- Failed to start the reporter. The reporter requires 'pip install psutil'.\n"
     ]
    },
    {
     "name": "stdout",
     "output_type": "stream",
     "text": [
      "hello\n",
      "\u001b[2m\u001b[36m(pid=9472)\u001b[0m HellO!\n",
      "\u001b[2m\u001b[36m(pid=9472)\u001b[0m HI!\n",
      "\u001b[2m\u001b[36m(pid=9472)\u001b[0m GOODBE\n",
      "\u001b[2m\u001b[36m(pid=9472)\u001b[0m 57033\n",
      "Goodbye\n",
      "Trial 0 Latency: 0.0001836039991758298\n",
      "Trial 10 Latency: 0.0006244930009415839\n",
      "Trial 20 Latency: 0.0017627389970584773\n",
      "Trial 30 Latency: 0.002368819001276279\n",
      "Trial 40 Latency: 0.003286107999883825\n",
      "Trial 50 Latency: 0.005285195002215914\n",
      "Trial 60 Latency: 0.006762164000974735\n",
      "Trial 70 Latency: 0.029583600000478327\n",
      "Trial 80 Latency: 0.008260350998170907\n",
      "Trial 90 Latency: 0.008285898999019992\n",
      "Trial 100 Latency: 0.02979738500289386\n",
      "Trial 110 Latency: 0.02476829499937594\n",
      "Trial 120 Latency: 0.01171928899930208\n",
      "Trial 130 Latency: 0.01241760199991404\n",
      "Trial 140 Latency: 0.018316637997486396\n",
      "Trial 150 Latency: 0.013650742002937477\n",
      "Trial 160 Latency: 0.010003134000726277\n",
      "Trial 170 Latency: 0.011343525002303068\n",
      "Trial 180 Latency: 0.010517965001781704\n",
      "Trial 190 Latency: 0.011973151998972753\n",
      "Trial 200 Latency: 0.01349786100035999\n",
      "Trial 210 Latency: 0.012232810000568861\n",
      "Trial 220 Latency: 0.013560155999584822\n",
      "Trial 230 Latency: 0.024304186001245398\n",
      "Trial 240 Latency: 0.024415341998974327\n",
      "Trial 250 Latency: 0.021440938999148784\n",
      "Trial 260 Latency: 0.02111606499966001\n",
      "Trial 270 Latency: 0.021724530997744296\n",
      "Trial 280 Latency: 0.021913324999331962\n",
      "Trial 290 Latency: 0.02270762499756529\n",
      "Trial 300 Latency: 0.020971905996702844\n",
      "Trial 310 Latency: 0.018259249001857825\n",
      "Trial 320 Latency: 0.01817949000178487\n",
      "Trial 330 Latency: 0.02104925700041349\n",
      "Trial 340 Latency: 0.021602186003292445\n",
      "Trial 350 Latency: 0.02204217299731681\n",
      "Trial 360 Latency: 0.020986945000913693\n",
      "Trial 370 Latency: 0.027932971002883278\n",
      "Trial 380 Latency: 0.022185322999575874\n",
      "Trial 390 Latency: 0.02286746799654793\n",
      "Trial 400 Latency: 0.04103503500300576\n",
      "Trial 410 Latency: 0.032022359999245964\n",
      "Trial 420 Latency: 0.0283013199987181\n",
      "Trial 430 Latency: 0.029960485000628978\n",
      "Trial 440 Latency: 0.040672565999557264\n",
      "Trial 450 Latency: 0.027437967000878416\n",
      "Trial 460 Latency: 0.028848960999312112\n",
      "Trial 470 Latency: 0.040265359999466455\n",
      "Trial 480 Latency: 0.028646638998907292\n",
      "Trial 490 Latency: 0.029337725001823856\n",
      "Trial 500 Latency: 0.02920990799975698\n",
      "Trial 0 Latency: 7.134900079108775e-05\n",
      "Trial 10 Latency: 0.0006323689995042514\n",
      "Trial 20 Latency: 0.0011996029970759992\n",
      "Trial 30 Latency: 0.0017486459983047098\n",
      "Trial 40 Latency: 0.0023002710004220717\n",
      "Trial 50 Latency: 0.002924861997598782\n",
      "Trial 60 Latency: 0.003697061001730617\n",
      "Trial 70 Latency: 0.00426219799919636\n",
      "Trial 80 Latency: 0.004709903998445952\n",
      "Trial 90 Latency: 0.00536129000101937\n",
      "Trial 100 Latency: 0.006233482999959961\n",
      "Trial 110 Latency: 0.006610772001295118\n",
      "Trial 120 Latency: 0.007081967996782623\n",
      "Trial 130 Latency: 0.007858367000153521\n",
      "Trial 140 Latency: 0.008436078998784069\n",
      "Trial 150 Latency: 0.009077341997908661\n",
      "Trial 160 Latency: 0.0091713889996754\n",
      "Trial 170 Latency: 0.009676061999925878\n",
      "Trial 180 Latency: 0.010491225999430753\n",
      "Trial 190 Latency: 0.013539306000893703\n",
      "Trial 200 Latency: 0.012047543998050969\n",
      "Trial 210 Latency: 0.012381472002743976\n",
      "Trial 220 Latency: 0.012720233000436565\n",
      "Trial 230 Latency: 0.013435978999041254\n",
      "Trial 240 Latency: 0.014060264998988714\n",
      "Trial 250 Latency: 0.024913197001296794\n",
      "Trial 260 Latency: 0.017993037999985972\n",
      "Trial 270 Latency: 0.025871134999761125\n",
      "Trial 280 Latency: 0.028663902998232516\n",
      "Trial 290 Latency: 0.02326815700143925\n",
      "Trial 300 Latency: 0.017823546997533413\n",
      "Trial 310 Latency: 0.01861063900287263\n",
      "Trial 320 Latency: 0.01849051499812049\n",
      "Trial 330 Latency: 0.01952332899963949\n",
      "Trial 340 Latency: 0.020015730002342025\n",
      "Trial 350 Latency: 0.02060023899684893\n",
      "Trial 360 Latency: 0.021083239000290632\n",
      "Trial 370 Latency: 0.056072313000186114\n",
      "Trial 380 Latency: 0.021937921999779064\n",
      "Trial 390 Latency: 0.024842753999109846\n",
      "Trial 400 Latency: 0.026085484998475295\n",
      "Trial 410 Latency: 0.02501206599845318\n",
      "Trial 420 Latency: 0.0324668820030638\n",
      "Trial 430 Latency: 0.036031979998369934\n",
      "Trial 440 Latency: 0.029822000000422122\n",
      "Trial 450 Latency: 0.026023839000117732\n",
      "Trial 460 Latency: 0.026442123999004252\n",
      "Trial 470 Latency: 0.027838177997182356\n",
      "Trial 480 Latency: 0.028566363002028083\n",
      "Trial 490 Latency: 0.028861614999186713\n",
      "Trial 500 Latency: 0.031390325999382185\n",
      "Trial 0 Latency: 8.209799852920696e-05\n",
      "Trial 10 Latency: 0.0006000609973852988\n",
      "Trial 20 Latency: 0.001168528000562219\n",
      "Trial 30 Latency: 0.0017019760016410146\n",
      "Trial 40 Latency: 0.002368516001297394\n",
      "Trial 50 Latency: 0.0030252399992605206\n",
      "Trial 60 Latency: 0.003564388996892376\n",
      "Trial 70 Latency: 0.004085455999302212\n",
      "Trial 80 Latency: 0.004626434998499462\n",
      "Trial 90 Latency: 0.006228361999092158\n",
      "Trial 100 Latency: 0.010252875999867683\n",
      "Trial 110 Latency: 0.011619026998232584\n",
      "Trial 120 Latency: 0.008157575000950601\n",
      "Trial 130 Latency: 0.009578807999787387\n",
      "Trial 140 Latency: 0.008324326998263132\n",
      "Trial 150 Latency: 0.008509383002092363\n",
      "Trial 160 Latency: 0.009339487001852831\n",
      "Trial 170 Latency: 0.009536361998470966\n",
      "Trial 180 Latency: 0.013245460999314673\n",
      "Trial 190 Latency: 0.010957155001960928\n",
      "Trial 200 Latency: 0.012781683999492088\n",
      "Trial 210 Latency: 0.012235579000844155\n",
      "Trial 220 Latency: 0.012899400000605965\n",
      "Trial 230 Latency: 0.016442306998214917\n",
      "Trial 240 Latency: 0.019440604002738837\n",
      "Trial 250 Latency: 0.020890088999294676\n",
      "Trial 260 Latency: 0.020886067002720665\n",
      "Trial 270 Latency: 0.01765374000024167\n",
      "Trial 280 Latency: 0.016024959997594124\n",
      "Trial 290 Latency: 0.016927084998314967\n",
      "Trial 300 Latency: 0.031793472000572365\n",
      "Trial 310 Latency: 0.03256089299975429\n",
      "Trial 320 Latency: 0.03334452600029181\n",
      "Trial 330 Latency: 0.02564588400127832\n",
      "Trial 340 Latency: 0.020843096001044614\n",
      "Trial 350 Latency: 0.029589835001388565\n",
      "Trial 360 Latency: 0.022048926002753433\n",
      "Trial 370 Latency: 0.05208509400108596\n",
      "Trial 380 Latency: 0.02975003900064621\n",
      "Trial 390 Latency: 0.03285855300055118\n",
      "Trial 400 Latency: 0.02476577599736629\n",
      "Trial 410 Latency: 0.038252332000411116\n",
      "Trial 420 Latency: 0.04310987500139163\n",
      "Trial 430 Latency: 0.04477950000000419\n",
      "Trial 440 Latency: 0.03695649899964337\n",
      "Trial 450 Latency: 0.027788327999587636\n",
      "Trial 460 Latency: 0.03206105700155604\n",
      "Trial 470 Latency: 0.03832393199991202\n",
      "Trial 480 Latency: 0.033240640001167776\n",
      "Trial 490 Latency: 0.037798653000209015\n",
      "Trial 500 Latency: 0.028673996002908098\n"
     ]
    }
   ],
   "source": [
    "from __future__ import absolute_import\n",
    "from __future__ import division\n",
    "from __future__ import print_function\n",
    "\n",
    "import time\n",
    "import requests\n",
    "\n",
    "import ray\n",
    "from ray.experimental.serve import DeadlineAwareRouter\n",
    "from ray.experimental.serve.examples.test import Predictor\n",
    "from ray.experimental.serve.router import start_router\n",
    "\n",
    "ray.shutdown()\n",
    "ray.init()\n",
    "handle = start_router(DeadlineAwareRouter, \"DefaultRouter\")\n",
    "\n",
    "\n",
    "handle.register_actor.remote(\n",
    "    \"Pred\", Predictor, init_kwargs={\"container\": 'ray/example:latest'})\n",
    "latencies = []\n",
    "print(\"hello\")\n",
    "time.sleep(5)\n",
    "print(\"Goodbye\")\n",
    "for _ in range(3):\n",
    "    vals = []\n",
    "    for i in range(0, 501, 10):\n",
    "        if i == 0:\n",
    "            now = time.perf_counter()\n",
    "            result = handle.call.remote(\"Pred\", [42], time.perf_counter() + 1)\n",
    "            after = time.perf_counter()\n",
    "        else:\n",
    "            now = time.perf_counter()\n",
    "            for j in range(i):\n",
    "                result = handle.call.remote(\"Pred\", [42], time.perf_counter() + 1)\n",
    "            after = time.perf_counter()\n",
    "        print(\"Trial\", i, \"Latency:\", after-now)\n",
    "        vals += [after - now]\n",
    "    latencies += [vals]"
   ]
  },
  {
   "cell_type": "code",
   "execution_count": null,
   "metadata": {},
   "outputs": [],
   "source": [
    "latencies = np.array(latencies)\n",
    "np.save(\"latencies_cont.npy\", latencies)\n",
    "avg = np.sum(latencies, axis=0)/np.float(3)\n",
    "xs = np.array(list(np.arange(0, 501, 10)))\n",
    "xs[0] = 1\n",
    "xs"
   ]
  },
  {
   "cell_type": "code",
   "execution_count": null,
   "metadata": {},
   "outputs": [],
   "source": [
    "avg"
   ]
  },
  {
   "cell_type": "code",
   "execution_count": null,
   "metadata": {},
   "outputs": [],
   "source": [
    "plt.plot(xs, avg, 'o-')\n",
    "plt.title(\"Latency vs. Number of Requests using Containerization\")\n",
    "plt.xlabel(\"Number of Queries\")\n",
    "plt.ylabel(\"Latency in s\")"
   ]
  },
  {
   "cell_type": "code",
   "execution_count": null,
   "metadata": {},
   "outputs": [],
   "source": []
  }
 ],
 "metadata": {
  "kernelspec": {
   "display_name": "Python 3",
   "language": "python",
   "name": "python3"
  },
  "language_info": {
   "codemirror_mode": {
    "name": "ipython",
    "version": 3
   },
   "file_extension": ".py",
   "mimetype": "text/x-python",
   "name": "python",
   "nbconvert_exporter": "python",
   "pygments_lexer": "ipython3",
   "version": "3.6.7"
  }
 },
 "nbformat": 4,
 "nbformat_minor": 2
}
